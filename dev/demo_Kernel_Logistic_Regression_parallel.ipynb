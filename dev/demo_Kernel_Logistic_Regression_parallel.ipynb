{
 "cells": [
  {
   "cell_type": "code",
   "execution_count": 29,
   "metadata": {
    "scrolled": true
   },
   "outputs": [],
   "source": [
    "import matplotlib\n",
    "from matplotlib import pyplot as plt\n",
    "\n",
    "import numpy as np\n",
    "import pandas as pd\n",
    "from scipy.spatial.distance import pdist, squareform\n",
    "from scipy.linalg import inv, norm, det\n",
    "\n",
    "import os\n",
    "os.chdir('/home/kei/Desktop/dpp/')\n",
    "\n",
    "from multiprocessing import Pool\n",
    "\n",
    "import sampler.dpp as dpp\n",
    "import sampler.mcdpp as mcdpp\n",
    "import sampler.utils as utils"
   ]
  },
  {
   "cell_type": "code",
   "execution_count": 30,
   "metadata": {
    "scrolled": true
   },
   "outputs": [],
   "source": [
    "# currently only support cpu mode\n",
    "flag_gpu = False\n",
    "\n",
    "lmbd = 1e-4\n",
    "nTrn = 4000\n",
    "nTot = 5000\n",
    "data = pd.read_csv('data/ailerons.txt')[:nTot].values\n",
    "trnY = data[:nTrn, -1]\n",
    "tstY = data[nTrn:, -1]\n",
    "pairwise_dists = squareform(pdist(data[:,:-1], 'euclidean'))\n",
    "L_0 = np.exp(-pairwise_dists ** 2 / 100 ** 2)\n",
    "trnL_0 = L_0[:nTrn, :nTrn]"
   ]
  },
  {
   "cell_type": "code",
   "execution_count": 31,
   "metadata": {},
   "outputs": [],
   "source": [
    "def kl_multi_gaussian(mu0, S0, mu1, S1):\n",
    "    \n",
    "    assert(len(mu0)==len(mu1))\n",
    "    assert(S0.shape==S1.shape)\n",
    "    \n",
    "    k = len(mu0)\n",
    "    invS1 = inv(S1)\n",
    "    tr = sum(invS1*S0)\n",
    "    quad = (mu1-mu0) @ invS1 @ (mu1-mu0)\n",
    "    logdet = np.log(det(S1)/det(S0))\n",
    "    \n",
    "    return 1/2 * (tr + quad - k + logdet)"
   ]
  },
  {
   "cell_type": "code",
   "execution_count": 32,
   "metadata": {},
   "outputs": [],
   "source": [
    "def kl_gaussian(mu0, sigsq0, mu1, sigsq1):\n",
    "    return 1/2 * (np.log(sigsq1)-np.log(sigsq0) + sigsq0/sigsq1 - 1 + (mu0-mu1)**2/sigsq1)\n",
    "\n",
    "def kl_gaussian_vec(vec):\n",
    "    [mu0, sigsq0, mu1, sigsq1] = list(vec)\n",
    "    return kl_gaussian(mu0, sigsq0, mu1, sigsq1)"
   ]
  },
  {
   "cell_type": "code",
   "execution_count": 33,
   "metadata": {},
   "outputs": [
    {
     "data": {
      "text/plain": [
       "0.00220054444761697"
      ]
     },
     "execution_count": 33,
     "metadata": {},
     "output_type": "execute_result"
    }
   ],
   "source": [
    "kl_gaussian_vec([0,1,0,1.1])"
   ]
  },
  {
   "cell_type": "markdown",
   "metadata": {},
   "source": [
    "# Full GP"
   ]
  },
  {
   "cell_type": "code",
   "execution_count": 34,
   "metadata": {},
   "outputs": [],
   "source": [
    "sigma2_0 = nTrn*lmbd\n",
    "inv_mat_0 = inv(trnL_0 + sigma2_0 * np.identity(nTrn))\n",
    "alpha_0 = inv_mat_0 @ trnY"
   ]
  },
  {
   "cell_type": "code",
   "execution_count": 35,
   "metadata": {},
   "outputs": [],
   "source": [
    "# correct the scaling factor\n",
    "scale = trnY.var()/sigma2_0\n",
    "for i in range(100):\n",
    "    dscale = - nTrn/(2*scale) + 1/(2*scale**2) * trnY @ inv_mat_0 @ trnY\n",
    "    ddscale = (nTrn/2*scale**2) - 1/(scale**3) * trnY @ inv_mat_0 @ trnY\n",
    "    scale -= 0.1*dscale/ddscale"
   ]
  },
  {
   "cell_type": "code",
   "execution_count": 36,
   "metadata": {},
   "outputs": [
    {
     "data": {
      "text/plain": [
       "3.0751594601313973e-10"
      ]
     },
     "execution_count": 36,
     "metadata": {},
     "output_type": "execute_result"
    }
   ],
   "source": [
    "dscale/ddscale"
   ]
  },
  {
   "cell_type": "code",
   "execution_count": 37,
   "metadata": {},
   "outputs": [],
   "source": [
    "sigma2 = scale * sigma2_0\n",
    "L = scale * L_0\n",
    "trnL = scale * trnL_0"
   ]
  },
  {
   "cell_type": "code",
   "execution_count": 38,
   "metadata": {
    "scrolled": true
   },
   "outputs": [
    {
     "data": {
      "text/plain": [
       "(9.006578963627065e-08, 1.6367094937499997e-07)"
      ]
     },
     "execution_count": 38,
     "metadata": {},
     "output_type": "execute_result"
    }
   ],
   "source": [
    "sigma2, trnY.var()"
   ]
  },
  {
   "cell_type": "code",
   "execution_count": 39,
   "metadata": {},
   "outputs": [],
   "source": [
    "inv_mat = inv(trnL + sigma2 * np.identity(nTrn))\n",
    "alpha = inv_mat @ trnY\n",
    "Y_hat_full = L[:,:nTrn]@ alpha\n",
    "Var_Y_hat_full = L - L[:,:nTrn] @ inv_mat @ L[:nTrn,:] + sigma2 * np.identity(L.shape[0])\n",
    "error_full_trn = norm(Y_hat_full[:nTrn] - trnY)\n",
    "error_full_tst = norm(Y_hat_full[nTrn:] - tstY)"
   ]
  },
  {
   "cell_type": "code",
   "execution_count": 40,
   "metadata": {},
   "outputs": [
    {
     "data": {
      "text/plain": [
       "0.5"
      ]
     },
     "execution_count": 40,
     "metadata": {},
     "output_type": "execute_result"
    }
   ],
   "source": [
    "kl_gaussian_vec([0,1e-8,1e-4,1e-8])"
   ]
  },
  {
   "cell_type": "code",
   "execution_count": 41,
   "metadata": {},
   "outputs": [
    {
     "data": {
      "text/plain": [
       "1.6367094937499997e-07"
      ]
     },
     "execution_count": 41,
     "metadata": {},
     "output_type": "execute_result"
    }
   ],
   "source": [
    "trnY.var()"
   ]
  },
  {
   "cell_type": "code",
   "execution_count": 42,
   "metadata": {
    "scrolled": true
   },
   "outputs": [
    {
     "data": {
      "text/plain": [
       "array([[ 9.05691290e-08,  5.64946577e-14, -1.28352042e-10],\n",
       "       [ 5.64946577e-14,  1.20709233e-07, -1.36779805e-14],\n",
       "       [-1.28352042e-10, -1.36779805e-14,  9.33154415e-08]])"
      ]
     },
     "execution_count": 42,
     "metadata": {},
     "output_type": "execute_result"
    }
   ],
   "source": [
    "Var_Y_hat_full[:3,:3]"
   ]
  },
  {
   "cell_type": "markdown",
   "metadata": {},
   "source": [
    "# Nystrom GP"
   ]
  },
  {
   "cell_type": "code",
   "execution_count": 43,
   "metadata": {},
   "outputs": [],
   "source": [
    "k_group = [20,30,50,70,100,150]"
   ]
  },
  {
   "cell_type": "code",
   "execution_count": 44,
   "metadata": {},
   "outputs": [],
   "source": [
    "def simulate_once(i):\n",
    "    \n",
    "    np.random.seed(i)\n",
    "\n",
    "    error_unif = np.zeros((4, len(k_group)))\n",
    "    error_dpp = np.zeros((4, len(k_group)))\n",
    "    error_mcdpp = np.zeros((4, len(k_group)))\n",
    "\n",
    "    kl_bound = np.zeros((3,len(k_group),))\n",
    "\n",
    "    for k_idx in range(len(k_group)):\n",
    "        k = k_group[k_idx]\n",
    "\n",
    "        # Uniform sampling\n",
    "        unif_smpl = np.random.permutation(nTrn)[:k]\n",
    "\n",
    "        C = trnL[np.ix_(range(nTrn), unif_smpl)]\n",
    "        W = C[np.ix_(unif_smpl, range(k))]\n",
    "        trnL_prime = C @ inv(W) @ C.T\n",
    "        error_unif[0,k_idx] += np.trace(trnL - trnL_prime) #norm(trnL_prime - trnL, 'fro')\n",
    "\n",
    "        W_inv = inv(W)\n",
    "        CC = C.T @ C\n",
    "        A = CC @ W_inv\n",
    "        B = inv(sigma2*W + CC)\n",
    "        Y_hat = L[np.ix_(range(nTot), unif_smpl)] @ W_inv @ (1/sigma2*(C.T @ trnY - CC @ B @ C.T @ trnY) )\n",
    "        Var_Y_hat = L[np.ix_(range(nTot), unif_smpl)] @ (\n",
    "                        W_inv - (1/sigma2*(W_inv @ A - A.T @ B @ A) )\n",
    "                    ) @ L[np.ix_(range(nTot), unif_smpl)].T + sigma2 * np.identity(L.shape[0])\n",
    "\n",
    "        error_unif[1,k_idx] += norm(Y_hat[:nTrn] - trnY)\n",
    "        error_unif[2,k_idx] += norm(Y_hat[nTrn:] - tstY)\n",
    "        tmp = np.stack([\n",
    "                Y_hat_full[nTrn:], np.diag(Var_Y_hat_full)[nTrn:], \n",
    "                Y_hat[nTrn:],      np.diag(Var_Y_hat)[nTrn:]\n",
    "            ]).T\n",
    "        error_unif[3,k_idx] += np.apply_along_axis(arr=tmp,axis=1,func1d=kl_gaussian_vec).mean()\n",
    "\n",
    "        # DPP\n",
    "        D, V = utils.get_eig(trnL_0, flag_gpu=flag_gpu)\n",
    "        E = utils.get_sympoly(D, k, flag_gpu=flag_gpu)\n",
    "        dpp_smpl  = dpp.sample(D, V, E=E, k=k, flag_gpu=flag_gpu)\n",
    "\n",
    "        C = trnL[np.ix_(range(nTrn), dpp_smpl)]\n",
    "        W = C[np.ix_(dpp_smpl, range(k))]\n",
    "        trnL_prime = C @ inv(W) @ C.T\n",
    "        error_dpp[0,k_idx] += np.trace(trnL - trnL_prime) #norm(trnL_prime - trnL, 'fro')\n",
    "\n",
    "        W_inv = inv(W)\n",
    "        CC = C.T @ C\n",
    "        A = CC @ W_inv\n",
    "        B = inv(sigma2*W + CC)\n",
    "        Y_hat = L[np.ix_(range(nTot), dpp_smpl)] @ W_inv @ (1/sigma2*(C.T @ trnY - CC @ B @ C.T @ trnY))\n",
    "        Var_Y_hat = L[np.ix_(range(nTot), dpp_smpl)] @ (\n",
    "                        W_inv - (1/sigma2*(W_inv @ A - A.T @ B @ A) )\n",
    "                    ) @ L[np.ix_(range(nTot), dpp_smpl)].T + sigma2 * np.identity(L.shape[0])\n",
    "        error_dpp[1,k_idx] += norm(Y_hat[:nTrn] - trnY)\n",
    "        error_dpp[2,k_idx] += norm(Y_hat[nTrn:] - tstY)\n",
    "        tmp = np.stack([\n",
    "                Y_hat_full[nTrn:], np.diag(Var_Y_hat_full)[nTrn:], \n",
    "                Y_hat[nTrn:],      np.diag(Var_Y_hat)[nTrn:]\n",
    "            ]).T\n",
    "        error_dpp[3,k_idx] += np.apply_along_axis(arr=tmp,axis=1,func1d=kl_gaussian_vec).mean()\n",
    "        \n",
    "        #MC-DPP\n",
    "        #too slow to wait mixing\n",
    "        mcdpp_smpl  = mcdpp.sample(trnL_0, mix_step=nTrn, k=k, flag_gpu=flag_gpu, silent=True)\n",
    "\n",
    "        C = trnL[np.ix_(range(nTrn), mcdpp_smpl)]\n",
    "        W = C[np.ix_(mcdpp_smpl, range(k))]\n",
    "        trnL_prime = C @ inv(W) @ C.T\n",
    "        error_mcdpp[0,k_idx] += np.trace(trnL - trnL_prime) #norm(trnL_prime - trnL, 'fro')\n",
    "\n",
    "        W_inv = inv(W)\n",
    "        CC = C.T @ C\n",
    "        A = CC @ W_inv\n",
    "        B = inv(sigma2*W + CC)\n",
    "        Y_hat = L[np.ix_(range(nTot), mcdpp_smpl)] @ W_inv @ (1/sigma2*(C.T @ trnY - CC @ B @ C.T @ trnY))\n",
    "        Var_Y_hat = L[np.ix_(range(nTot), mcdpp_smpl)] @ (\n",
    "                        W_inv - (1/sigma2*(W_inv @ A - A.T @ B @ A) )\n",
    "                    ) @ L[np.ix_(range(nTot), mcdpp_smpl)].T + sigma2 * np.identity(L.shape[0])\n",
    "        error_mcdpp[1,k_idx] += norm(Y_hat[:nTrn] - trnY)\n",
    "        error_mcdpp[2,k_idx] += norm(Y_hat[nTrn:] - tstY)\n",
    "        tmp = np.stack([\n",
    "                Y_hat_full[nTrn:], np.diag(Var_Y_hat_full)[nTrn:], \n",
    "                Y_hat[nTrn:],      np.diag(Var_Y_hat)[nTrn:]\n",
    "            ]).T\n",
    "        error_mcdpp[3,k_idx] += np.apply_along_axis(arr=tmp,axis=1,func1d=kl_gaussian_vec).mean()\n",
    "        \n",
    "        kl_bound[0,k_idx] += np.trace(trnL - trnL_prime)**2\n",
    "        kl_bound[1,k_idx] += (1/4 * ( 1 - np.diag(Var_Y_hat)[nTrn:] / np.diag(Var_Y_hat_full)[nTrn:] )**2 ).mean()\n",
    "        kl_bound[2,k_idx] += (1/2 * ( Y_hat_full[nTrn:] - Y_hat[nTrn:])**2 / np.diag(Var_Y_hat_full)[nTrn:]).mean()\n",
    "        \n",
    "    return [error_unif, error_dpp, error_mcdpp, kl_bound]"
   ]
  },
  {
   "cell_type": "code",
   "execution_count": 45,
   "metadata": {},
   "outputs": [],
   "source": [
    "n_job = 6\n",
    "with Pool(processes=6) as p:\n",
    "    results = p.map(simulate_once, [i for i in range(n_job)])"
   ]
  },
  {
   "cell_type": "code",
   "execution_count": 46,
   "metadata": {},
   "outputs": [],
   "source": [
    "error_unif = np.zeros((4, len(k_group)))\n",
    "error_dpp = np.zeros((4, len(k_group)))\n",
    "error_mcdpp = np.zeros((4, len(k_group)))\n",
    "kl_bound = np.zeros((3,len(k_group),))\n",
    "\n",
    "for r in results:\n",
    "    error_unif += r[0]\n",
    "    error_dpp += r[1]\n",
    "    error_mcdpp += r[2]\n",
    "    kl_bound += r[3]"
   ]
  },
  {
   "cell_type": "markdown",
   "metadata": {},
   "source": [
    "# Plot"
   ]
  },
  {
   "cell_type": "code",
   "execution_count": null,
   "metadata": {},
   "outputs": [],
   "source": [
    "%matplotlib inline"
   ]
  },
  {
   "cell_type": "code",
   "execution_count": null,
   "metadata": {},
   "outputs": [],
   "source": [
    "kl_bound[1]"
   ]
  },
  {
   "cell_type": "code",
   "execution_count": null,
   "metadata": {
    "scrolled": true
   },
   "outputs": [],
   "source": [
    "kl_bound[2]"
   ]
  },
  {
   "cell_type": "code",
   "execution_count": null,
   "metadata": {},
   "outputs": [],
   "source": [
    "error_mcdpp[3]"
   ]
  },
  {
   "cell_type": "code",
   "execution_count": 48,
   "metadata": {
    "scrolled": false
   },
   "outputs": [
    {
     "data": {
      "image/png": "[encoded data removed]",
      "text/plain": [
       "<Figure size 576x576 with 4 Axes>"
      ]
     },
     "metadata": {},
     "output_type": "display_data"
    }
   ],
   "source": [
    "plt.figure(figsize=(8,8))\n",
    "\n",
    "plt.subplot(2,2,1)\n",
    "plt.title('Nystrom Approximation Error')\n",
    "plt.plot(k_group, error_unif[0] / n_job, label='unif', lw=2)\n",
    "plt.plot(k_group, error_dpp[0] / n_job, label='dpp', lw=2)\n",
    "plt.plot(k_group, error_mcdpp[0] / n_job, label='mcdpp', lw=2)\n",
    "plt.yscale('log')\n",
    "plt.legend()\n",
    "#plt.savefig('fig/nystrom', bbox_inches='tight')\n",
    "\n",
    "plt.subplot(2,2,2)\n",
    "plt.title('kl divergence from exact prediction')\n",
    "plt.plot(k_group, error_unif[3] / n_job, label='unif', lw=2)\n",
    "plt.plot(k_group, error_dpp[3] / n_job, label='dpp', lw=2)\n",
    "plt.plot(k_group, error_mcdpp[3] / n_job, label='mcdpp', lw=2)\n",
    "#plt.plot(k_group, kl_bound[0] / 4000**2/n_job, label='bound for mcdpp', lw=2)\n",
    "#plt.plot(k_group, kl_bound[1] / n_job * 2, label='bound for mcdpp', lw=2)\n",
    "plt.plot(k_group, kl_bound[2]/n_job, label='bound for mcdpp', lw=2)\n",
    "\n",
    "plt.yscale('log')\n",
    "\n",
    "\n",
    "plt.subplot(2,2,3)\n",
    "plt.title('Approximate GP Train Error')\n",
    "plt.plot(k_group, error_unif[1] / n_job/error_full_trn, label='unif', lw=2)\n",
    "plt.plot(k_group, error_dpp[1] / n_job/error_full_trn, label='dpp', lw=2)\n",
    "plt.plot(k_group, error_mcdpp[1] / n_job/error_full_trn, label='mcdpp', lw=2)\n",
    "#plt.yscale('log')\n",
    "plt.subplot(2,2,4)\n",
    "plt.title('Approximate GP Test Error')\n",
    "plt.plot(k_group, error_unif[2] / n_job/error_full_tst, label='unif', lw=2)\n",
    "plt.plot(k_group, error_dpp[2] / n_job/error_full_tst, label='dpp', lw=2)\n",
    "plt.plot(k_group, error_mcdpp[2] / n_job/error_full_tst, label='mcdpp', lw=2)\n",
    "#plt.yscale('log')\n",
    "\n",
    "plt.savefig('fig/gp_regression', bbox_inches='tight')"
   ]
  },
  {
   "cell_type": "code",
   "execution_count": null,
   "metadata": {},
   "outputs": [],
   "source": [
    "# distribution of eigen values\n",
    "D, V = utils.get_eig(trnL, flag_gpu=flag_gpu)\n",
    "plt.plot(D)"
   ]
  }
 ],
 "metadata": {
  "kernelspec": {
   "display_name": "Python 3",
   "language": "python",
   "name": "python3"
  },
  "language_info": {
   "codemirror_mode": {
    "name": "ipython",
    "version": 3
   },
   "file_extension": ".py",
   "mimetype": "text/x-python",
   "name": "python",
   "nbconvert_exporter": "python",
   "pygments_lexer": "ipython3",
   "version": "3.6.8"
  }
 },
 "nbformat": 4,
 "nbformat_minor": 2
}
